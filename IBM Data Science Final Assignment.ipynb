{
 "cells": [
  {
   "cell_type": "markdown",
   "id": "905a7992-cd61-4044-961c-4df38cd13bb8",
   "metadata": {},
   "source": [
    "## Final Project: Introduction to Data Science Tools and Concepts\n"
   ]
  },
  {
   "cell_type": "markdown",
   "id": "83415e1d-0afe-444a-9987-edb13c271e03",
   "metadata": {},
   "source": [
    "## Introduction\n",
    "\n",
    "This notebook provides an overview of important data science languages, libraries, tools, and basic coding exercises to demonstrate arithmetic operations and conversions. It serves as a beginner-friendly guide to essential data science concepts and practical Python examples.\n",
    "  "
   ]
  },
  {
   "cell_type": "markdown",
   "id": "3e87c4d4-4947-4567-8c23-5883803368a3",
   "metadata": {},
   "source": [
    "## Data Science Languages  \n",
    "- Python  \n",
    "- R  \n",
    "- SQL  \n",
    "- Julia  \n",
    "- Scala\n"
   ]
  },
  {
   "cell_type": "markdown",
   "id": "d4ef57e9-e89f-4307-97dc-a9e8a44a9237",
   "metadata": {},
   "source": [
    "## Data Science Libraries  \n",
    "- Pandas  \n",
    "- NumPy  \n",
    "- Matplotlib  \n",
    "- Scikit-learn  \n",
    "- TensorFlow  \n",
    "- ggplot2  \n",
    "- dplyr\n"
   ]
  },
  {
   "cell_type": "markdown",
   "id": "c2e89736-045d-4a1f-80b1-0da65a263af1",
   "metadata": {},
   "source": [
    "## Data Science Tools  \n",
    "\n",
    "| Tool           | Description                         |\n",
    "|----------------|-----------------------------------|\n",
    "| Jupyter Notebook | Interactive coding environment     |\n",
    "| RStudio        | IDE for R programming language     |\n",
    "| GitHub         | Version control and collaboration  |\n",
    "| Apache Spark   | Big data processing engine          |\n",
    "| IBM Watson Studio | Cloud-based data science platform  |\n"
   ]
  },
  {
   "cell_type": "markdown",
   "id": "1acdc2ca-6a54-4f10-bb37-d6d1b6010f84",
   "metadata": {},
   "source": [
    "## Arithmetic Expression Examples  \n",
    "Below are some examples of basic arithmetic operations using Python code.\n"
   ]
  },
  {
   "cell_type": "code",
   "execution_count": 121,
   "id": "e12018a4-b0b2-428a-9453-845c2c32b8a7",
   "metadata": {},
   "outputs": [
    {
     "data": {
      "text/plain": [
       "30"
      ]
     },
     "execution_count": 121,
     "metadata": {},
     "output_type": "execute_result"
    }
   ],
   "source": [
    "# Multiply 5 by 4 and then add 10\n",
    "result = 5 * 4 + 10\n",
    "result\n"
   ]
  },
  {
   "cell_type": "code",
   "execution_count": 122,
   "id": "2865d27f-8a31-4d17-a9fc-9e3e44603ce5",
   "metadata": {},
   "outputs": [
    {
     "data": {
      "text/plain": [
       "2.25"
      ]
     },
     "execution_count": 122,
     "metadata": {},
     "output_type": "execute_result"
    }
   ],
   "source": [
    "# Convert 135 minutes to hours\n",
    "minutes = 135\n",
    "hours = minutes / 60\n",
    "hours\n"
   ]
  },
  {
   "cell_type": "markdown",
   "id": "b749edb6-58e5-4cb4-81ba-f651cd069b6c",
   "metadata": {},
   "source": [
    "## Objectives  \n",
    "- Understand key data science languages and libraries  \n",
    "- Get familiar with popular data science tools  \n",
    "- Practice basic arithmetic operations in Python  \n",
    "- Learn to convert time units with simple code  \n",
    "- Create and share a Jupyterlite notebook\n"
   ]
  },
  {
   "cell_type": "markdown",
   "id": "72025cde-2b97-4689-97bf-96502f809113",
   "metadata": {},
   "source": [
    "## Author  \n",
    "Ravikumar Chennupati\n"
   ]
  },
  {
   "cell_type": "code",
   "execution_count": null,
   "id": "ab1fb306-1d0f-46f4-ab9f-ae6ac0eb14fe",
   "metadata": {},
   "outputs": [],
   "source": []
  },
  {
   "cell_type": "code",
   "execution_count": null,
   "id": "f7421f62-1bfb-4e2b-a1cd-8ea7d04757e2",
   "metadata": {},
   "outputs": [],
   "source": []
  },
  {
   "cell_type": "code",
   "execution_count": null,
   "id": "aa0c5c4a-1596-4f7d-9640-a029c3bb8013",
   "metadata": {},
   "outputs": [],
   "source": []
  },
  {
   "cell_type": "code",
   "execution_count": null,
   "id": "318e1be5-04f4-4f95-9943-ff24d9ddc062",
   "metadata": {},
   "outputs": [],
   "source": []
  },
  {
   "cell_type": "code",
   "execution_count": null,
   "id": "5a16efbb-7d95-4b99-89a7-045447002b67",
   "metadata": {},
   "outputs": [],
   "source": []
  },
  {
   "cell_type": "code",
   "execution_count": null,
   "id": "321b867b-37dd-43dc-ada7-684bcb2a323b",
   "metadata": {},
   "outputs": [],
   "source": []
  }
 ],
 "metadata": {
  "kernelspec": {
   "display_name": "Python 3 (ipykernel)",
   "language": "python",
   "name": "python3"
  },
  "language_info": {
   "codemirror_mode": {
    "name": "ipython",
    "version": 3
   },
   "file_extension": ".py",
   "mimetype": "text/x-python",
   "name": "python",
   "nbconvert_exporter": "python",
   "pygments_lexer": "ipython3",
   "version": "3.11.5"
  }
 },
 "nbformat": 4,
 "nbformat_minor": 5
}
